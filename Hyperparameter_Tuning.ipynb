{
  "nbformat": 4,
  "nbformat_minor": 0,
  "metadata": {
    "colab": {
      "provenance": [],
      "authorship_tag": "ABX9TyMnW1hHeUEhuS+kxBvV5at5",
      "include_colab_link": true
    },
    "kernelspec": {
      "name": "python3",
      "display_name": "Python 3"
    },
    "language_info": {
      "name": "python"
    }
  },
  "cells": [
    {
      "cell_type": "markdown",
      "metadata": {
        "id": "view-in-github",
        "colab_type": "text"
      },
      "source": [
        "<a href=\"https://colab.research.google.com/github/Harshitsri170/Hyperparameter_Tuning-Grid-Search-and-randomized-search-/blob/main/Hyperparameter_Tuning.ipynb\" target=\"_parent\"><img src=\"https://colab.research.google.com/assets/colab-badge.svg\" alt=\"Open In Colab\"/></a>"
      ]
    },
    {
      "cell_type": "code",
      "execution_count": 1,
      "metadata": {
        "id": "6GWKHzA3jgcs"
      },
      "outputs": [],
      "source": [
        "import numpy as np\n",
        "import pandas as pd\n",
        "from sklearn.datasets import load_breast_cancer\n",
        "from sklearn.model_selection import train_test_split, GridSearchCV, RandomizedSearchCV\n",
        "from sklearn.preprocessing import StandardScaler\n",
        "from sklearn.pipeline import Pipeline\n",
        "from sklearn.metrics import classification_report, accuracy_score, precision_score, recall_score, f1_score\n",
        "\n",
        "# Models\n",
        "from sklearn.ensemble import RandomForestClassifier\n",
        "from sklearn.svm import SVC\n",
        "from sklearn.linear_model import LogisticRegression\n",
        "\n",
        "# Load dataset\n",
        "data = load_breast_cancer()\n",
        "X, y = data.data, data.target\n",
        "\n",
        "# Split data\n",
        "X_train, X_test, y_train, y_test = train_test_split(X, y, test_size=0.2, random_state=42)\n"
      ]
    },
    {
      "cell_type": "code",
      "source": [
        "models = {\n",
        "    'RandomForest': RandomForestClassifier(random_state=42),\n",
        "    'SVC': SVC(random_state=42),\n",
        "    'LogisticRegression': LogisticRegression(max_iter=1000, random_state=42)\n",
        "}\n",
        "\n",
        "param_grids = {\n",
        "    'RandomForest': {\n",
        "        'classifier__n_estimators': [50, 100, 150],\n",
        "        'classifier__max_depth': [None, 10, 20],\n",
        "    },\n",
        "    'SVC': {\n",
        "        'classifier__C': [0.1, 1, 10],\n",
        "        'classifier__kernel': ['linear', 'rbf']\n",
        "    },\n",
        "    'LogisticRegression': {\n",
        "        'classifier__C': [0.1, 1, 10],\n",
        "        'classifier__penalty': ['l2'],\n",
        "        'classifier__solver': ['lbfgs', 'liblinear']\n",
        "    }\n",
        "}\n"
      ],
      "metadata": {
        "id": "K9P3mVDzjuvO"
      },
      "execution_count": 2,
      "outputs": []
    },
    {
      "cell_type": "code",
      "source": [
        "results = []\n",
        "\n",
        "for name, model in models.items():\n",
        "    pipe = Pipeline([\n",
        "        ('scaler', StandardScaler()),\n",
        "        ('classifier', model)\n",
        "    ])\n",
        "\n",
        "    grid_search = GridSearchCV(pipe, param_grids[name], cv=5, scoring='f1', n_jobs=-1)\n",
        "    grid_search.fit(X_train, y_train)\n",
        "\n",
        "    best_model = grid_search.best_estimator_\n",
        "    y_pred = best_model.predict(X_test)\n",
        "\n",
        "    # Metrics\n",
        "    acc = accuracy_score(y_test, y_pred)\n",
        "    prec = precision_score(y_test, y_pred)\n",
        "    rec = recall_score(y_test, y_pred)\n",
        "    f1 = f1_score(y_test, y_pred)\n",
        "\n",
        "    results.append({\n",
        "        'Model': name,\n",
        "        'Best Params': grid_search.best_params_,\n",
        "        'Accuracy': acc,\n",
        "        'Precision': prec,\n",
        "        'Recall': rec,\n",
        "        'F1 Score': f1\n",
        "    })\n",
        "\n",
        "df_results = pd.DataFrame(results)\n",
        "print(df_results.sort_values(by='F1 Score', ascending=False))\n"
      ],
      "metadata": {
        "colab": {
          "base_uri": "https://localhost:8080/"
        },
        "id": "9bXDY-agj05P",
        "outputId": "1e6fc7e5-0e3d-48cf-8869-054ac8282c8e"
      },
      "execution_count": 3,
      "outputs": [
        {
          "output_type": "stream",
          "name": "stdout",
          "text": [
            "                Model                                        Best Params  \\\n",
            "2  LogisticRegression  {'classifier__C': 0.1, 'classifier__penalty': ...   \n",
            "1                 SVC  {'classifier__C': 1, 'classifier__kernel': 'rbf'}   \n",
            "0        RandomForest  {'classifier__max_depth': None, 'classifier__n...   \n",
            "\n",
            "   Accuracy  Precision    Recall  F1 Score  \n",
            "2  0.991228   0.986111  1.000000  0.993007  \n",
            "1  0.982456   0.972603  1.000000  0.986111  \n",
            "0  0.964912   0.958904  0.985915  0.972222  \n"
          ]
        }
      ]
    },
    {
      "cell_type": "code",
      "source": [
        "# We can also use RandomsizerSearchCv\n",
        "from scipy.stats import randint, uniform\n",
        "\n",
        "param_dists = {\n",
        "    'RandomForest': {\n",
        "        'classifier__n_estimators': randint(50, 200),\n",
        "        'classifier__max_depth': [None, 10, 20]\n",
        "    },\n",
        "    'SVC': {\n",
        "        'classifier__C': uniform(0.1, 10),\n",
        "        'classifier__kernel': ['linear', 'rbf']\n",
        "    },\n",
        "    'LogisticRegression': {\n",
        "        'classifier__C': uniform(0.1, 10),\n",
        "        'classifier__solver': ['lbfgs', 'liblinear']\n",
        "    }\n",
        "}\n",
        "\n"
      ],
      "metadata": {
        "id": "_T_e1_8-j5qr"
      },
      "execution_count": 4,
      "outputs": []
    }
  ]
}